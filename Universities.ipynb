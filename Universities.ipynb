{
 "cells": [
  {
   "cell_type": "code",
   "execution_count": 1,
   "id": "22faf714-5165-4bc2-a4e1-276da40b2172",
   "metadata": {},
   "outputs": [],
   "source": [
    "# Import necessary libraries\n",
    "import pandas as pd                # For working with data tables\n",
    "import geopandas as gpd            # For working with geographic data\n",
    "from shapely.geometry import Point # For creating point locations on the map\n",
    "import leafmap                     # For displaying interactive maps\n",
    "import os\n",
    "import urllib.request\n",
    "from urllib.parse import urlparse\n",
    "import zipfile\n",
    "import time\n",
    "import zipfile\n",
    "\n",
    "# Start the timer for the entire operation\n",
    "start_time = time.time()\n",
    "\n",
    "# Create a map centered on the United States, with a zoom level of 4\n",
    "m = leafmap.Map(center=[37.8, -96.9], zoom=4)"
   ]
  },
  {
   "cell_type": "code",
   "execution_count": 2,
   "id": "16511b06-52d8-49f9-87ba-034c35dcdb24",
   "metadata": {},
   "outputs": [
    {
     "data": {
      "text/plain": [
       "('./extracted_files/cb_2018_us_state_500k.zip',\n",
       " <http.client.HTTPMessage at 0x7f01832a5970>)"
      ]
     },
     "execution_count": 2,
     "metadata": {},
     "output_type": "execute_result"
    }
   ],
   "source": [
    "# URL for a shapefile of all US states\n",
    "url = \"https://www2.census.gov/geo/tiger/GENZ2018/shp/cb_2018_us_state_500k.zip\"\n",
    "\n",
    "# Parse the URL and get the path\n",
    "path = urlparse(url).path\n",
    "\n",
    "# Get the filename without extension\n",
    "filename = os.path.splitext(os.path.basename(path))[0]\n",
    "\n",
    "# Create the unzip directory if it doesn't exist\n",
    "unzip_dir = './extracted_files'\n",
    "os.makedirs(unzip_dir, exist_ok=True)\n",
    "\n",
    "# Path where you want to save the zip file\n",
    "zip_path = os.path.join(unzip_dir, f\"{filename}.zip\")\n",
    "\n",
    "# Download the shapefile zip\n",
    "urllib.request.urlretrieve(url, zip_path)"
   ]
  },
  {
   "cell_type": "code",
   "execution_count": 3,
   "id": "2dbdc4e3-e1f2-49e2-abc9-521ff298af9b",
   "metadata": {},
   "outputs": [],
   "source": [
    "# Unzip the downloaded shapefile\n",
    "with zipfile.ZipFile(zip_path, 'r') as zip_ref:\n",
    "    zip_ref.extractall(unzip_dir)"
   ]
  },
  {
   "cell_type": "code",
   "execution_count": 4,
   "id": "e05318b8-ff8a-4fb5-91cd-493b198175d2",
   "metadata": {},
   "outputs": [
    {
     "name": "stdout",
     "output_type": "stream",
     "text": [
      "   UNITID                               INSTNM  \\\n",
      "0  100654             Alabama A & M University   \n",
      "1  100663  University of Alabama at Birmingham   \n",
      "2  100690                   Amridge University   \n",
      "3  100706  University of Alabama in Huntsville   \n",
      "4  100724             Alabama State University   \n",
      "\n",
      "                             ADDR        CITY STABBR   LONGITUD   LATITUDE  \n",
      "0            4900 Meridian Street      Normal     AL -86.568502  34.783368  \n",
      "1  Administration Bldg Suite 1070  Birmingham     AL -86.799345  33.505697  \n",
      "2                  1200 Taylor Rd  Montgomery     AL -86.174010  32.362609  \n",
      "3                 301 Sparkman Dr  Huntsville     AL -86.640449  34.724557  \n",
      "4            915 S Jackson Street  Montgomery     AL -86.295677  32.364317  \n"
     ]
    }
   ],
   "source": [
    "# Load the UniversityDirectory2023 CSV into a data frame\n",
    "csv_path_university = \"./UniversityData/UniversityDirectory2023.csv\"\n",
    "columns_to_use_university = [\"UNITID\", \"INSTNM\", \"ADDR\", \"CITY\", \"STABBR\", \"LONGITUD\", \"LATITUDE\"]\n",
    "df_university = pd.read_csv(csv_path_university, usecols=columns_to_use_university, encoding='ISO-8859-1')\n",
    "print(df_university.head())"
   ]
  },
  {
   "cell_type": "code",
   "execution_count": 5,
   "id": "7b313ea9",
   "metadata": {},
   "outputs": [
    {
     "data": {
      "text/html": [
       "<div>\n",
       "<style scoped>\n",
       "    .dataframe tbody tr th:only-of-type {\n",
       "        vertical-align: middle;\n",
       "    }\n",
       "\n",
       "    .dataframe tbody tr th {\n",
       "        vertical-align: top;\n",
       "    }\n",
       "\n",
       "    .dataframe thead th {\n",
       "        text-align: right;\n",
       "    }\n",
       "</style>\n",
       "<table border=\"1\" class=\"dataframe\">\n",
       "  <thead>\n",
       "    <tr style=\"text-align: right;\">\n",
       "      <th></th>\n",
       "      <th>UNITID</th>\n",
       "      <th>CTOTALT</th>\n",
       "    </tr>\n",
       "  </thead>\n",
       "  <tbody>\n",
       "    <tr>\n",
       "      <th>0</th>\n",
       "      <td>100654</td>\n",
       "      <td>18</td>\n",
       "    </tr>\n",
       "    <tr>\n",
       "      <th>1</th>\n",
       "      <td>100654</td>\n",
       "      <td>8</td>\n",
       "    </tr>\n",
       "    <tr>\n",
       "      <th>2</th>\n",
       "      <td>100654</td>\n",
       "      <td>6</td>\n",
       "    </tr>\n",
       "    <tr>\n",
       "      <th>3</th>\n",
       "      <td>100654</td>\n",
       "      <td>2</td>\n",
       "    </tr>\n",
       "    <tr>\n",
       "      <th>4</th>\n",
       "      <td>100654</td>\n",
       "      <td>2</td>\n",
       "    </tr>\n",
       "  </tbody>\n",
       "</table>\n",
       "</div>"
      ],
      "text/plain": [
       "   UNITID  CTOTALT\n",
       "0  100654       18\n",
       "1  100654        8\n",
       "2  100654        6\n",
       "3  100654        2\n",
       "4  100654        2"
      ]
     },
     "execution_count": 5,
     "metadata": {},
     "output_type": "execute_result"
    }
   ],
   "source": [
    "# Load the UniversityAwardedDegrees2023 CSV into a data frame\n",
    "csv_path_awarded_degrees = \"./UniversityData/UniversityAwardedDegrees2023.csv\"\n",
    "df_awarded_degrees = pd.read_csv(csv_path_awarded_degrees, usecols=[\"UNITID\", \"CTOTALT\"], encoding='ISO-8859-1')\n",
    "df_awarded_degrees.head()"
   ]
  },
  {
   "cell_type": "code",
   "execution_count": 6,
   "id": "87d40d48",
   "metadata": {},
   "outputs": [
    {
     "data": {
      "text/html": [
       "<div>\n",
       "<style scoped>\n",
       "    .dataframe tbody tr th:only-of-type {\n",
       "        vertical-align: middle;\n",
       "    }\n",
       "\n",
       "    .dataframe tbody tr th {\n",
       "        vertical-align: top;\n",
       "    }\n",
       "\n",
       "    .dataframe thead th {\n",
       "        text-align: right;\n",
       "    }\n",
       "</style>\n",
       "<table border=\"1\" class=\"dataframe\">\n",
       "  <thead>\n",
       "    <tr style=\"text-align: right;\">\n",
       "      <th></th>\n",
       "      <th>UNITID</th>\n",
       "      <th>INSTNM</th>\n",
       "      <th>ADDR</th>\n",
       "      <th>CITY</th>\n",
       "      <th>STABBR</th>\n",
       "      <th>LONGITUD</th>\n",
       "      <th>LATITUDE</th>\n",
       "      <th>CTOTALT</th>\n",
       "    </tr>\n",
       "  </thead>\n",
       "  <tbody>\n",
       "    <tr>\n",
       "      <th>0</th>\n",
       "      <td>100654</td>\n",
       "      <td>Alabama A &amp; M University</td>\n",
       "      <td>4900 Meridian Street</td>\n",
       "      <td>Normal</td>\n",
       "      <td>AL</td>\n",
       "      <td>-86.568502</td>\n",
       "      <td>34.783368</td>\n",
       "      <td>18</td>\n",
       "    </tr>\n",
       "    <tr>\n",
       "      <th>1</th>\n",
       "      <td>100654</td>\n",
       "      <td>Alabama A &amp; M University</td>\n",
       "      <td>4900 Meridian Street</td>\n",
       "      <td>Normal</td>\n",
       "      <td>AL</td>\n",
       "      <td>-86.568502</td>\n",
       "      <td>34.783368</td>\n",
       "      <td>8</td>\n",
       "    </tr>\n",
       "    <tr>\n",
       "      <th>2</th>\n",
       "      <td>100654</td>\n",
       "      <td>Alabama A &amp; M University</td>\n",
       "      <td>4900 Meridian Street</td>\n",
       "      <td>Normal</td>\n",
       "      <td>AL</td>\n",
       "      <td>-86.568502</td>\n",
       "      <td>34.783368</td>\n",
       "      <td>6</td>\n",
       "    </tr>\n",
       "    <tr>\n",
       "      <th>3</th>\n",
       "      <td>100654</td>\n",
       "      <td>Alabama A &amp; M University</td>\n",
       "      <td>4900 Meridian Street</td>\n",
       "      <td>Normal</td>\n",
       "      <td>AL</td>\n",
       "      <td>-86.568502</td>\n",
       "      <td>34.783368</td>\n",
       "      <td>2</td>\n",
       "    </tr>\n",
       "    <tr>\n",
       "      <th>4</th>\n",
       "      <td>100654</td>\n",
       "      <td>Alabama A &amp; M University</td>\n",
       "      <td>4900 Meridian Street</td>\n",
       "      <td>Normal</td>\n",
       "      <td>AL</td>\n",
       "      <td>-86.568502</td>\n",
       "      <td>34.783368</td>\n",
       "      <td>2</td>\n",
       "    </tr>\n",
       "  </tbody>\n",
       "</table>\n",
       "</div>"
      ],
      "text/plain": [
       "   UNITID                    INSTNM                  ADDR    CITY STABBR  \\\n",
       "0  100654  Alabama A & M University  4900 Meridian Street  Normal     AL   \n",
       "1  100654  Alabama A & M University  4900 Meridian Street  Normal     AL   \n",
       "2  100654  Alabama A & M University  4900 Meridian Street  Normal     AL   \n",
       "3  100654  Alabama A & M University  4900 Meridian Street  Normal     AL   \n",
       "4  100654  Alabama A & M University  4900 Meridian Street  Normal     AL   \n",
       "\n",
       "    LONGITUD   LATITUDE  CTOTALT  \n",
       "0 -86.568502  34.783368       18  \n",
       "1 -86.568502  34.783368        8  \n",
       "2 -86.568502  34.783368        6  \n",
       "3 -86.568502  34.783368        2  \n",
       "4 -86.568502  34.783368        2  "
      ]
     },
     "execution_count": 6,
     "metadata": {},
     "output_type": "execute_result"
    }
   ],
   "source": [
    "# Merge the two DataFrames on UNITID\n",
    "df_merged = pd.merge(df_university, df_awarded_degrees, on=\"UNITID\", how=\"inner\")\n",
    "df_merged.head()"
   ]
  },
  {
   "cell_type": "code",
   "execution_count": 7,
   "id": "eaadab71-dad7-4d55-87f1-b040ac2be0c1",
   "metadata": {},
   "outputs": [
    {
     "data": {
      "text/html": [
       "<div>\n",
       "<style scoped>\n",
       "    .dataframe tbody tr th:only-of-type {\n",
       "        vertical-align: middle;\n",
       "    }\n",
       "\n",
       "    .dataframe tbody tr th {\n",
       "        vertical-align: top;\n",
       "    }\n",
       "\n",
       "    .dataframe thead th {\n",
       "        text-align: right;\n",
       "    }\n",
       "</style>\n",
       "<table border=\"1\" class=\"dataframe\">\n",
       "  <thead>\n",
       "    <tr style=\"text-align: right;\">\n",
       "      <th></th>\n",
       "      <th>INSTNM</th>\n",
       "      <th>CTOTALT</th>\n",
       "      <th>LATITUDE</th>\n",
       "      <th>LONGITUD</th>\n",
       "    </tr>\n",
       "  </thead>\n",
       "  <tbody>\n",
       "    <tr>\n",
       "      <th>0</th>\n",
       "      <td>A Better U Beauty Barber Academy</td>\n",
       "      <td>78</td>\n",
       "      <td>35.110630</td>\n",
       "      <td>-106.583765</td>\n",
       "    </tr>\n",
       "    <tr>\n",
       "      <th>1</th>\n",
       "      <td>A T Still University of Health Sciences</td>\n",
       "      <td>2614</td>\n",
       "      <td>40.193648</td>\n",
       "      <td>-92.589183</td>\n",
       "    </tr>\n",
       "    <tr>\n",
       "      <th>2</th>\n",
       "      <td>ABC Adult School</td>\n",
       "      <td>178</td>\n",
       "      <td>33.878179</td>\n",
       "      <td>-118.070114</td>\n",
       "    </tr>\n",
       "    <tr>\n",
       "      <th>3</th>\n",
       "      <td>ABC Beauty Academy</td>\n",
       "      <td>104</td>\n",
       "      <td>32.931698</td>\n",
       "      <td>-96.685333</td>\n",
       "    </tr>\n",
       "    <tr>\n",
       "      <th>4</th>\n",
       "      <td>ABCO Technology</td>\n",
       "      <td>362</td>\n",
       "      <td>33.932121</td>\n",
       "      <td>-118.369774</td>\n",
       "    </tr>\n",
       "  </tbody>\n",
       "</table>\n",
       "</div>"
      ],
      "text/plain": [
       "                                    INSTNM  CTOTALT   LATITUDE    LONGITUD\n",
       "0         A Better U Beauty Barber Academy       78  35.110630 -106.583765\n",
       "1  A T Still University of Health Sciences     2614  40.193648  -92.589183\n",
       "2                         ABC Adult School      178  33.878179 -118.070114\n",
       "3                       ABC Beauty Academy      104  32.931698  -96.685333\n",
       "4                          ABCO Technology      362  33.932121 -118.369774"
      ]
     },
     "execution_count": 7,
     "metadata": {},
     "output_type": "execute_result"
    }
   ],
   "source": [
    "df_merged = df_merged.groupby(\"INSTNM\").agg({\n",
    "    'CTOTALT': 'sum',  # Sum of degrees awarded\n",
    "    'LATITUDE': 'first',  # You can also use 'mean' or 'median', if preferred\n",
    "    'LONGITUD': 'first'  # Similarly, 'mean' or 'median' can be used\n",
    "}).reset_index()\n",
    "df_merged.head()"
   ]
  },
  {
   "cell_type": "code",
   "execution_count": 8,
   "id": "1ccf45a6",
   "metadata": {},
   "outputs": [
    {
     "data": {
      "text/html": [
       "<div>\n",
       "<style scoped>\n",
       "    .dataframe tbody tr th:only-of-type {\n",
       "        vertical-align: middle;\n",
       "    }\n",
       "\n",
       "    .dataframe tbody tr th {\n",
       "        vertical-align: top;\n",
       "    }\n",
       "\n",
       "    .dataframe thead th {\n",
       "        text-align: right;\n",
       "    }\n",
       "</style>\n",
       "<table border=\"1\" class=\"dataframe\">\n",
       "  <thead>\n",
       "    <tr style=\"text-align: right;\">\n",
       "      <th></th>\n",
       "      <th>INSTNM</th>\n",
       "      <th>CTOTALT</th>\n",
       "      <th>LATITUDE</th>\n",
       "      <th>LONGITUD</th>\n",
       "      <th>geometry</th>\n",
       "    </tr>\n",
       "  </thead>\n",
       "  <tbody>\n",
       "    <tr>\n",
       "      <th>0</th>\n",
       "      <td>A Better U Beauty Barber Academy</td>\n",
       "      <td>78</td>\n",
       "      <td>35.110630</td>\n",
       "      <td>-106.583765</td>\n",
       "      <td>POINT (-106.583765 35.11063)</td>\n",
       "    </tr>\n",
       "    <tr>\n",
       "      <th>1</th>\n",
       "      <td>A T Still University of Health Sciences</td>\n",
       "      <td>2614</td>\n",
       "      <td>40.193648</td>\n",
       "      <td>-92.589183</td>\n",
       "      <td>POINT (-92.589183 40.193648)</td>\n",
       "    </tr>\n",
       "    <tr>\n",
       "      <th>2</th>\n",
       "      <td>ABC Adult School</td>\n",
       "      <td>178</td>\n",
       "      <td>33.878179</td>\n",
       "      <td>-118.070114</td>\n",
       "      <td>POINT (-118.070114 33.878179)</td>\n",
       "    </tr>\n",
       "    <tr>\n",
       "      <th>3</th>\n",
       "      <td>ABC Beauty Academy</td>\n",
       "      <td>104</td>\n",
       "      <td>32.931698</td>\n",
       "      <td>-96.685333</td>\n",
       "      <td>POINT (-96.685333 32.931698)</td>\n",
       "    </tr>\n",
       "    <tr>\n",
       "      <th>4</th>\n",
       "      <td>ABCO Technology</td>\n",
       "      <td>362</td>\n",
       "      <td>33.932121</td>\n",
       "      <td>-118.369774</td>\n",
       "      <td>POINT (-118.369774 33.932121)</td>\n",
       "    </tr>\n",
       "  </tbody>\n",
       "</table>\n",
       "</div>"
      ],
      "text/plain": [
       "                                    INSTNM  CTOTALT   LATITUDE    LONGITUD  \\\n",
       "0         A Better U Beauty Barber Academy       78  35.110630 -106.583765   \n",
       "1  A T Still University of Health Sciences     2614  40.193648  -92.589183   \n",
       "2                         ABC Adult School      178  33.878179 -118.070114   \n",
       "3                       ABC Beauty Academy      104  32.931698  -96.685333   \n",
       "4                          ABCO Technology      362  33.932121 -118.369774   \n",
       "\n",
       "                        geometry  \n",
       "0   POINT (-106.583765 35.11063)  \n",
       "1   POINT (-92.589183 40.193648)  \n",
       "2  POINT (-118.070114 33.878179)  \n",
       "3   POINT (-96.685333 32.931698)  \n",
       "4  POINT (-118.369774 33.932121)  "
      ]
     },
     "execution_count": 8,
     "metadata": {},
     "output_type": "execute_result"
    }
   ],
   "source": [
    "# Convert LATITUDE and LONGITUD to geometry points\n",
    "def make_point(row):\n",
    "    return Point(row['LONGITUD'], row['LATITUDE'])\n",
    "df_merged['geometry'] = df_merged.apply(make_point, axis=1)\n",
    "df_merged.head()"
   ]
  },
  {
   "cell_type": "code",
   "execution_count": 9,
   "id": "1d79ec80",
   "metadata": {},
   "outputs": [],
   "source": [
    "# Convert the merged DataFrame into a GeoDataFrame\n",
    "gdf_university = gpd.GeoDataFrame(df_merged, geometry='geometry', crs=\"EPSG:4326\")\n",
    "gdf_university.head()\n",
    "\n",
    "# Add the university point layer to the map\n",
    "m.add_gdf(gdf_university, \n",
    "          layer_name=\"All Universities\",\n",
    "          visible=False  # THIS CAN TAKE A LONG TIME TO DRAW!\n",
    "         )"
   ]
  },
  {
   "cell_type": "code",
   "execution_count": 10,
   "id": "b1a10ed2",
   "metadata": {},
   "outputs": [
    {
     "data": {
      "application/vnd.jupyter.widget-view+json": {
       "model_id": "71ac3c1e04f042c4a540ef3c9574e52b",
       "version_major": 2,
       "version_minor": 0
      },
      "text/plain": [
       "Map(center=[37.8, -96.9], controls=(ZoomControl(options=['position', 'zoom_in_text', 'zoom_in_title', 'zoom_ou…"
      ]
     },
     "execution_count": 10,
     "metadata": {},
     "output_type": "execute_result"
    }
   ],
   "source": [
    "# Load the Shapefile for US States from the correct directory\n",
    "shapefile_path = \"./extracted_files/cb_2018_us_state_500k.shp\"\n",
    "gdf_states = gpd.read_file(shapefile_path)\n",
    "gdf_states.head()\n",
    "\n",
    "# Add the states with the degree totals to the map, symbolizing by the 'Total degrees awarded' column\n",
    "m.add_gdf(gdf_states, layer_name=\"States\")\n",
    "m"
   ]
  },
  {
   "cell_type": "code",
   "execution_count": 11,
   "id": "13ac590e",
   "metadata": {},
   "outputs": [
    {
     "name": "stdout",
     "output_type": "stream",
     "text": [
      "Time taken for spatial join: 0.04 seconds\n"
     ]
    }
   ],
   "source": [
    "# Start the timer for the spatial join\n",
    "spatial_join_start_time = time.time()\n",
    "\n",
    "# Perform a spatial join between the university data and the state shapefile\n",
    "gdf_joined = gpd.sjoin(gdf_university, gdf_states, how=\"inner\", op=\"within\")\n",
    "\n",
    "# Calculate and print the time taken for the spatial join\n",
    "spatial_join_end_time = time.time()\n",
    "spatial_join_duration = spatial_join_end_time - spatial_join_start_time\n",
    "print(f\"Time taken for spatial join: {spatial_join_duration:.2f} seconds\")\n"
   ]
  },
  {
   "cell_type": "code",
   "execution_count": 12,
   "id": "bbf058ce-8175-4ffc-a1fc-84838f649b1b",
   "metadata": {},
   "outputs": [
    {
     "name": "stdout",
     "output_type": "stream",
     "text": [
      "  STATEFP   STATENS     AFFGEOID GEOID STUSPS            NAME LSAD  \\\n",
      "0      28  01779790  0400000US28    28     MS     Mississippi   00   \n",
      "1      37  01027616  0400000US37    37     NC  North Carolina   00   \n",
      "2      40  01102857  0400000US40    40     OK        Oklahoma   00   \n",
      "3      51  01779803  0400000US51    51     VA        Virginia   00   \n",
      "4      54  01779805  0400000US54    54     WV   West Virginia   00   \n",
      "\n",
      "          ALAND       AWATER  \\\n",
      "0  121533519481   3926919758   \n",
      "1  125923656064  13466071395   \n",
      "2  177662925723   3374587997   \n",
      "3  102257717110   8528531774   \n",
      "4   62266474513    489028543   \n",
      "\n",
      "                                            geometry  CTOTALT  \n",
      "0  MULTIPOLYGON (((-88.50297 30.21523, -88.49176 ...    93814  \n",
      "1  MULTIPOLYGON (((-75.72681 35.93584, -75.71827 ...   317112  \n",
      "2  POLYGON ((-103.00257 36.52659, -103.00219 36.6...   118608  \n",
      "3  MULTIPOLYGON (((-75.74241 37.80835, -75.74151 ...   284016  \n",
      "4  POLYGON ((-82.64320 38.16909, -82.64300 38.169...    74958  \n"
     ]
    }
   ],
   "source": [
    "# Aggregate the joined data by state and sum the degrees awarded\n",
    "gdf_state_degrees = gdf_joined.groupby(\"STUSPS\")[\"CTOTALT\"].sum().reset_index()\n",
    "\n",
    "# Merge the aggregated data back into the state boundaries GeoDataFrame\n",
    "gdf_states = gdf_states.merge(gdf_state_degrees, left_on=\"STUSPS\", right_on=\"STUSPS\", how=\"left\")\n",
    "print(gdf_states.head())"
   ]
  },
  {
   "cell_type": "code",
   "execution_count": 13,
   "id": "d0dc3c37-bb47-405e-9cca-b54cef61cfff",
   "metadata": {},
   "outputs": [
    {
     "data": {
      "application/vnd.jupyter.widget-view+json": {
       "model_id": "71ac3c1e04f042c4a540ef3c9574e52b",
       "version_major": 2,
       "version_minor": 0
      },
      "text/plain": [
       "Map(center=[37.8, -96.9], controls=(ZoomControl(options=['position', 'zoom_in_text', 'zoom_in_title', 'zoom_ou…"
      ]
     },
     "execution_count": 13,
     "metadata": {},
     "output_type": "execute_result"
    }
   ],
   "source": [
    "# Use the 'Name' from the shapefile for the full state names and clean up the DataFrame\n",
    "gdf_states[\"State Name\"] = gdf_states[\"NAME\"]\n",
    "gdf_states[\"State Abbreviation\"] = gdf_states[\"STUSPS\"]\n",
    "gdf_states[\"Total degrees awarded\"] = gdf_states[\"CTOTALT\"]\n",
    "\n",
    "# Drop unnecessary columns and keep the relevant ones\n",
    "gdf_states = gdf_states[[\"State Name\", \"State Abbreviation\", \"Total degrees awarded\", \"geometry\"]]\n",
    "\n",
    "# Add the states with the degree totals to the map, symbolizing by the 'Total degrees awarded' column\n",
    "m.add_gdf(gdf_states, \n",
    "          layer_name=\"States with Degrees\",\n",
    "          color_by=\"Total degrees awarded\",\n",
    "          color_scale=\"YlOrRd\",\n",
    "         )\n",
    "\n",
    "# Drop unnecessary columns and keep the relevant ones\n",
    "#gdf_states = gdf_states[[\"State Name\", \"State Abbreviation\", \"Total degrees awarded\"]]\n",
    "\n",
    "m.add_labels(\n",
    "    gdf_states,\n",
    "    column=\"Total degrees awarded\",\n",
    "    label_font_size=12,\n",
    "    label_color=\"black\",\n",
    "    label_offset=[0, 0],\n",
    "    layer_name=\"Degree Labels\"\n",
    ")\n",
    "\n",
    "# Show the map\n",
    "m"
   ]
  },
  {
   "cell_type": "code",
   "execution_count": 14,
   "id": "0114229d-e15e-4422-b36e-2eae77c1c211",
   "metadata": {},
   "outputs": [
    {
     "name": "stdout",
     "output_type": "stream",
     "text": [
      "Total number of rows: 5,864\n",
      "Total number of columns: 5\n",
      "Total number of cells: 29,320\n"
     ]
    }
   ],
   "source": [
    "# Generate some interesting facts\n",
    "num_rows, num_columns = df_merged.shape\n",
    "num_cells = num_rows * num_columns\n",
    "\n",
    "print(f\"Total number of rows: {num_rows:,}\")\n",
    "print(f\"Total number of columns: {num_columns:,}\")\n",
    "print(f\"Total number of cells: {num_cells:,}\")"
   ]
  },
  {
   "cell_type": "code",
   "execution_count": 15,
   "id": "2f908187-831b-4bef-93eb-2a8f8e8dc457",
   "metadata": {},
   "outputs": [
    {
     "name": "stdout",
     "output_type": "stream",
     "text": [
      "Total degrees awarded across all states: 10,793,422\n"
     ]
    }
   ],
   "source": [
    "# Calculate the sum of all degrees awarded across all universities\n",
    "total_degrees_awarded = gdf_states[\"Total degrees awarded\"].sum()\n",
    "\n",
    "# Print the result with commas for readability\n",
    "print(f\"Total degrees awarded across all states: {total_degrees_awarded:,}\")"
   ]
  },
  {
   "cell_type": "code",
   "execution_count": 16,
   "id": "ac2c82fb-6745-4d54-abfe-c61af4739ccd",
   "metadata": {},
   "outputs": [
    {
     "name": "stdout",
     "output_type": "stream",
     "text": [
      "Total operation time: 5.16 seconds\n"
     ]
    }
   ],
   "source": [
    "# Complete the full operation\n",
    "end_time = time.time()\n",
    "total_duration = end_time - start_time\n",
    "\n",
    "# Print the total operation time and format with commas\n",
    "print(f\"Total operation time: {total_duration:.2f} seconds\")"
   ]
  },
  {
   "cell_type": "code",
   "execution_count": 17,
   "id": "bc209ee7-d563-45c8-86dd-f7370ff620bb",
   "metadata": {},
   "outputs": [],
   "source": [
    "# Reproject the GeoDataFrame to EPSG:4326\n",
    "gdf_states = gdf_states.to_crs(epsg=4326)\n",
    "\n",
    "# Export the GeoDataFrame to GeoJSON without the CRS field\n",
    "gdf_states.to_file(\"states_degrees_awarded.geojson\", driver=\"GeoJSON\")"
   ]
  },
  {
   "cell_type": "code",
   "execution_count": 18,
   "id": "23ed8a98-5037-48d9-b409-c8ac3591e0e6",
   "metadata": {},
   "outputs": [],
   "source": [
    "# Manually upload your GeoJSON to ArcGIS Online: https://www.arcgis.com/home/content.html"
   ]
  },
  {
   "cell_type": "code",
   "execution_count": 19,
   "id": "114e2cd2-21d6-4409-bf09-c4bf3a776631",
   "metadata": {},
   "outputs": [],
   "source": [
    "# Import that layer into a Map: https://www.arcgis.com/apps/mapviewer/index.html\n",
    "# Make sure to SAVE!"
   ]
  },
  {
   "cell_type": "code",
   "execution_count": 20,
   "id": "3c35ae7d-8415-4850-bf2d-369bf9927afe",
   "metadata": {},
   "outputs": [],
   "source": [
    "# Can you repeat thsi exercise using US counties?!\n",
    "# https://www2.census.gov/geo/tiger/GENZ2018/shp/cb_2018_us_county_500k.zip"
   ]
  }
 ],
 "metadata": {
  "kernelspec": {
   "display_name": "Python 3 (ipykernel)",
   "language": "python",
   "name": "python3"
  },
  "language_info": {
   "codemirror_mode": {
    "name": "ipython",
    "version": 3
   },
   "file_extension": ".py",
   "mimetype": "text/x-python",
   "name": "python",
   "nbconvert_exporter": "python",
   "pygments_lexer": "ipython3",
   "version": "3.12.7"
  }
 },
 "nbformat": 4,
 "nbformat_minor": 5
}
