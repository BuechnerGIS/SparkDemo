{
 "cells": [
  {
   "cell_type": "code",
   "execution_count": null,
   "id": "962178bc-f9fe-4a43-a612-f7049f510f35",
   "metadata": {
    "scrolled": true
   },
   "outputs": [],
   "source": [
    "# Install dependencies for pulling OSM data\n",
    "!pip install leafmap geopandas osmnx shapely\n",
    "import leafmap\n",
    "import osmnx\n",
    "import geopandas\n",
    "import shapely"
   ]
  },
  {
   "cell_type": "code",
   "execution_count": null,
   "id": "58cce8ae-d550-4055-9db8-ee0398117616",
   "metadata": {
    "scrolled": true
   },
   "outputs": [],
   "source": [
    "# Create a map over Parkway West\n",
    "m = leafmap.Map(center=[38.622800689786146, -90.53972968259362], zoom=15)\n",
    "m"
   ]
  },
  {
   "cell_type": "code",
   "execution_count": null,
   "id": "7a9b4ed8-6440-47c9-af63-d1e40bc6039a",
   "metadata": {
    "scrolled": true
   },
   "outputs": [],
   "source": [
    "# Let's add some satellite imagery!\n",
    "m = leafmap.Map(center=[38.622800689786146, -90.53972968259362], zoom=15)\n",
    "m.add_tile_layer(\n",
    "    url=\"https://mt1.google.com/vt/lyrs=y&x={x}&y={y}&z={z}\",\n",
    "    name=\"Google Satellite\",\n",
    "    attribution=\"Google\",\n",
    ")\n",
    "m"
   ]
  },
  {
   "cell_type": "code",
   "execution_count": null,
   "id": "5e5abd13-0b07-45ba-a2f1-b775f298e74c",
   "metadata": {},
   "outputs": [],
   "source": [
    "# Chris is hungry... Let's make a new map and find some restaraunts\n",
    "restaraunt_map = leafmap.Map(center=[38.49481428709007, -90.29638904026217], zoom=15)\n",
    "restaraunt_map.add_tile_layer(\n",
    "    url=\"https://mt1.google.com/vt/lyrs=y&x={x}&y={y}&z={z}\",\n",
    "    name=\"Google Satellite\",\n",
    "    attribution=\"Google\",\n",
    ")\n",
    "restaraunt_map"
   ]
  },
  {
   "cell_type": "code",
   "execution_count": null,
   "id": "dfea7a2d-1b18-4247-8619-4a2e6444b854",
   "metadata": {
    "scrolled": true
   },
   "outputs": [],
   "source": [
    "# Let's query the data using GeoPandas Data Frames\n",
    "north, south, east, west = 38.544406, 38.485307, -90.270538, -90.365467\n",
    "gdf = leafmap.osm_gdf_from_bbox(\n",
    "    north, south, east, west, \n",
    "    tags={\"building\": ['yes', 'retail', 'house']})\n",
    "gdf"
   ]
  },
  {
   "cell_type": "code",
   "execution_count": null,
   "id": "814ed989-9949-47e4-b333-d96b31424243",
   "metadata": {},
   "outputs": [],
   "source": [
    "# Convert the projection system from geographic to projected\n",
    "gdf = gdf.to_crs(epsg=3395)  \n",
    "gdf"
   ]
  },
  {
   "cell_type": "code",
   "execution_count": null,
   "id": "eb576ca5-7eb2-4dac-a1b3-8b1a5b6e1686",
   "metadata": {},
   "outputs": [],
   "source": [
    "# Add all buildings which met query criteria above to map\n",
    "restaraunt_map.add_gdf(gdf, layer_name=\"All Buildings\", fill_colors=[\"green\"])\n",
    "restaraunt_map"
   ]
  },
  {
   "cell_type": "code",
   "execution_count": null,
   "id": "3e828637-6ab6-4bd8-aa6f-049d1d2c7c16",
   "metadata": {
    "scrolled": true
   },
   "outputs": [],
   "source": [
    "# Trim data frames to only contain two columns\n",
    "small_gdf = gdf[[\"name\", \"addr:street\", \"amenity\", \"geometry\"]]\n",
    "\n",
    "# Make a new dataframe of only restaraunts\n",
    "restaraunts = small_gdf.query(\"amenity in ['restaraunt', 'fast_food']\")\n",
    "restaraunts"
   ]
  },
  {
   "cell_type": "code",
   "execution_count": null,
   "id": "00d0d361-db05-42b7-982d-51f0bd1568ef",
   "metadata": {},
   "outputs": [],
   "source": [
    "# Convert to points\n",
    "restaraunts['geometry'] = restaraunts['geometry'].centroid\n",
    "restaraunts"
   ]
  },
  {
   "cell_type": "code",
   "execution_count": null,
   "id": "2cabebb5-39ae-4067-981b-96ce8330e5bb",
   "metadata": {},
   "outputs": [],
   "source": [
    "# Add it to the map!\n",
    "restaraunt_map.add_gdf(restaraunts, layer_name=\"Restaraunts\", fill_colors=[\"green\"])\n",
    "restaraunt_map"
   ]
  },
  {
   "cell_type": "code",
   "execution_count": null,
   "id": "d66aeb9e-2ac1-4466-bc6f-eff2daa6b43a",
   "metadata": {},
   "outputs": [],
   "source": [
    "#specific_feature = small_gdf[small_gdf['name'] == 'Walmart Supercenter'].iloc[0]\n",
    "# Create a data frame of just Walmart\n",
    "walmart = small_gdf[gdf['name'] == 'Walmart Supercenter']\n",
    "walmart\n"
   ]
  },
  {
   "cell_type": "code",
   "execution_count": null,
   "id": "09363a5f-9730-44aa-886e-e1787dd08c56",
   "metadata": {},
   "outputs": [],
   "source": [
    "# Buffer the Walmart by 1-mile (~1600m)\n",
    "walmart['geometry'] = walmart['geometry'].buffer(1600)\n",
    "buffered_geometry = walmart['geometry']\n",
    "# Ignore the warning for now..."
   ]
  },
  {
   "cell_type": "code",
   "execution_count": null,
   "id": "26e2e202-85c8-4ddb-8038-ad264a1834e1",
   "metadata": {},
   "outputs": [],
   "source": [
    "# Add that buffer to the map!\n",
    "restaraunt_map.add_gdf(walmart, layer_name=\"Walmart Buffer\", fill_colors=[\"red\"])\n",
    "restaraunt_map"
   ]
  },
  {
   "cell_type": "code",
   "execution_count": null,
   "id": "72534648-ac90-4d3f-a51c-f20e248e42ac",
   "metadata": {},
   "outputs": [],
   "source": [
    "restaraunts = restaraunts.reset_index(drop=True)\n",
    "walmart = walmart.reset_index(drop=True)\n",
    "\n",
    "buildings_within_range = restaraunts[restaraunts.intersects(walmart['geometry'])]"
   ]
  },
  {
   "cell_type": "code",
   "execution_count": null,
   "id": "1caf84ff-fffa-4e49-82cd-3d7f2caef41d",
   "metadata": {},
   "outputs": [],
   "source": [
    "restaurants_within_range = geopandas.sjoin(restaraunts, walmart, how=\"inner\", op=\"within\")\n",
    "\n",
    "# Convert to points\n",
    "restaurants_within_range['geometry'] = restaurants_within_range['geometry'].centroid\n",
    "\n",
    "# Drop columns from the right-join Walmart table\n",
    "columns_to_drop = [col for col in restaurants_within_range.columns if col.endswith(\"_right\")]\n",
    "restaurants_within_range = restaurants_within_range.drop(columns=columns_to_drop)\n",
    "\n",
    "\n",
    "restaurants_within_range"
   ]
  },
  {
   "cell_type": "code",
   "execution_count": null,
   "id": "635d968b-ddf0-42b9-86d6-2118a98e7f87",
   "metadata": {},
   "outputs": [],
   "source": [
    "# Add the restaraunts within 1-mile to the map!\n",
    "restaraunt_map.add_gdf(restaurants_within_range, layer_name=\"Restaraunt Choices\", fill_colors=[\"green\"])\n",
    "restaraunt_map"
   ]
  },
  {
   "cell_type": "code",
   "execution_count": null,
   "id": "3b51f726-b37f-4597-9269-3fff996e8af8",
   "metadata": {},
   "outputs": [],
   "source": []
  }
 ],
 "metadata": {
  "kernelspec": {
   "display_name": "Python 3 (ipykernel)",
   "language": "python",
   "name": "python3"
  },
  "language_info": {
   "codemirror_mode": {
    "name": "ipython",
    "version": 3
   },
   "file_extension": ".py",
   "mimetype": "text/x-python",
   "name": "python",
   "nbconvert_exporter": "python",
   "pygments_lexer": "ipython3",
   "version": "3.10.12"
  }
 },
 "nbformat": 4,
 "nbformat_minor": 5
}
